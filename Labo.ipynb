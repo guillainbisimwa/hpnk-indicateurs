{
 "cells": [
  {
   "cell_type": "code",
   "execution_count": 1,
   "id": "pharmaceutical-machine",
   "metadata": {},
   "outputs": [],
   "source": [
    "# LOAD DATASET"
   ]
  },
  {
   "cell_type": "code",
   "execution_count": 2,
   "id": "alive-seattle",
   "metadata": {},
   "outputs": [],
   "source": [
    "import pandas as pd\n",
    "import io"
   ]
  },
  {
   "cell_type": "code",
   "execution_count": 3,
   "id": "hawaiian-vegetarian",
   "metadata": {},
   "outputs": [],
   "source": [
    "raw = pd.read_csv(\"dataset/LABO15.csv\", sep=';') "
   ]
  },
  {
   "cell_type": "code",
   "execution_count": 4,
   "id": "equipped-criminal",
   "metadata": {},
   "outputs": [],
   "source": [
    "# RESHAPE\n",
    "## EVT_PREL_FAIT, EVT_TYPE_EXAMEN_VALUE, Date"
   ]
  },
  {
   "cell_type": "code",
   "execution_count": 5,
   "id": "chinese-economy",
   "metadata": {},
   "outputs": [
    {
     "name": "stdout",
     "output_type": "stream",
     "text": [
      "     EVT_TYPE_EXAMEN_VALUE        Date  EVT_PREL_FAIT\n",
      "0                      NaN  01-janv-21          False\n",
      "1          Selles directes  01-janv-21           True\n",
      "2                 Widal TO  01-janv-21           True\n",
      "3            TDR Paludisme  01-janv-21           True\n",
      "4                 Widal TH  01-janv-21           True\n",
      "...                    ...         ...            ...\n",
      "4468                   NaN  15-janv-21          False\n",
      "4469              Widal TH  15-janv-21           True\n",
      "4470              Widal TO  15-janv-21           True\n",
      "4471            Cr�atinine  15-janv-21           True\n",
      "4472         TDR Paludisme  15-janv-21           True\n",
      "\n",
      "[4473 rows x 3 columns]\n"
     ]
    }
   ],
   "source": [
    "df = raw.loc[:,['EVT_TYPE_EXAMEN_VALUE', 'Date', 'EVT_PREL_FAIT']]\n",
    "#df = raw[\"EVT_TYPE_EXAMEN_VALUE\"]\n",
    "print(df)"
   ]
  },
  {
   "cell_type": "code",
   "execution_count": 6,
   "id": "unknown-slide",
   "metadata": {},
   "outputs": [
    {
     "data": {
      "text/html": [
       "<div>\n",
       "<style scoped>\n",
       "    .dataframe tbody tr th:only-of-type {\n",
       "        vertical-align: middle;\n",
       "    }\n",
       "\n",
       "    .dataframe tbody tr th {\n",
       "        vertical-align: top;\n",
       "    }\n",
       "\n",
       "    .dataframe thead th {\n",
       "        text-align: right;\n",
       "    }\n",
       "</style>\n",
       "<table border=\"1\" class=\"dataframe\">\n",
       "  <thead>\n",
       "    <tr style=\"text-align: right;\">\n",
       "      <th></th>\n",
       "      <th>Date</th>\n",
       "      <th>EVT_PREL_FAIT</th>\n",
       "    </tr>\n",
       "    <tr>\n",
       "      <th>EVT_TYPE_EXAMEN_VALUE</th>\n",
       "      <th></th>\n",
       "      <th></th>\n",
       "    </tr>\n",
       "  </thead>\n",
       "  <tbody>\n",
       "    <tr>\n",
       "      <th>ABO &amp; RH (D)</th>\n",
       "      <td>58</td>\n",
       "      <td>58</td>\n",
       "    </tr>\n",
       "    <tr>\n",
       "      <th>AFP</th>\n",
       "      <td>3</td>\n",
       "      <td>3</td>\n",
       "    </tr>\n",
       "    <tr>\n",
       "      <th>ALAT (GPT)</th>\n",
       "      <td>32</td>\n",
       "      <td>32</td>\n",
       "    </tr>\n",
       "    <tr>\n",
       "      <th>ASAT (GOT)</th>\n",
       "      <td>32</td>\n",
       "      <td>32</td>\n",
       "    </tr>\n",
       "    <tr>\n",
       "      <th>ASLO quantitatif</th>\n",
       "      <td>31</td>\n",
       "      <td>31</td>\n",
       "    </tr>\n",
       "    <tr>\n",
       "      <th>...</th>\n",
       "      <td>...</td>\n",
       "      <td>...</td>\n",
       "    </tr>\n",
       "    <tr>\n",
       "      <th>Ur�e</th>\n",
       "      <td>123</td>\n",
       "      <td>123</td>\n",
       "    </tr>\n",
       "    <tr>\n",
       "      <th>VDRL/TPHA</th>\n",
       "      <td>74</td>\n",
       "      <td>74</td>\n",
       "    </tr>\n",
       "    <tr>\n",
       "      <th>Vitesse de s�dimentation (VS)</th>\n",
       "      <td>260</td>\n",
       "      <td>260</td>\n",
       "    </tr>\n",
       "    <tr>\n",
       "      <th>Widal TH</th>\n",
       "      <td>215</td>\n",
       "      <td>215</td>\n",
       "    </tr>\n",
       "    <tr>\n",
       "      <th>Widal TO</th>\n",
       "      <td>215</td>\n",
       "      <td>215</td>\n",
       "    </tr>\n",
       "  </tbody>\n",
       "</table>\n",
       "<p>79 rows × 2 columns</p>\n",
       "</div>"
      ],
      "text/plain": [
       "                               Date  EVT_PREL_FAIT\n",
       "EVT_TYPE_EXAMEN_VALUE                             \n",
       "ABO & RH (D)                     58             58\n",
       "AFP                               3              3\n",
       "ALAT (GPT)                       32             32\n",
       "ASAT (GOT)                       32             32\n",
       "ASLO quantitatif                 31             31\n",
       "...                             ...            ...\n",
       "Ur�e                            123            123\n",
       "VDRL/TPHA                        74             74\n",
       "Vitesse de s�dimentation (VS)   260            260\n",
       "Widal TH                        215            215\n",
       "Widal TO                        215            215\n",
       "\n",
       "[79 rows x 2 columns]"
      ]
     },
     "execution_count": 6,
     "metadata": {},
     "output_type": "execute_result"
    }
   ],
   "source": [
    "df.groupby(['EVT_TYPE_EXAMEN_VALUE']).count()"
   ]
  },
  {
   "cell_type": "code",
   "execution_count": 116,
   "id": "stylish-tennessee",
   "metadata": {},
   "outputs": [
    {
     "data": {
      "text/plain": [
       "(4473, 3)"
      ]
     },
     "execution_count": 116,
     "metadata": {},
     "output_type": "execute_result"
    }
   ],
   "source": [
    "df.shape"
   ]
  },
  {
   "cell_type": "code",
   "execution_count": 117,
   "id": "supreme-brown",
   "metadata": {},
   "outputs": [],
   "source": [
    "# IMPORT TYPE EXAM"
   ]
  },
  {
   "cell_type": "code",
   "execution_count": 118,
   "id": "foster-respondent",
   "metadata": {},
   "outputs": [],
   "source": [
    "raw2 = pd.read_csv(\"dataset/TYPE_EX.csv\", sep=';') "
   ]
  },
  {
   "cell_type": "code",
   "execution_count": 119,
   "id": "brilliant-veteran",
   "metadata": {},
   "outputs": [
    {
     "name": "stdout",
     "output_type": "stream",
     "text": [
      "             EVT_TYPE_EXAMEN_VALUE           TYPE\n",
      "0                ECBU / Uroculture  BACTERIOLOGIE\n",
      "1              Ecouvillon de gorge  BACTERIOLOGIE\n",
      "2   Ecouvillon de l'oreille droite  BACTERIOLOGIE\n",
      "3   Ecouvillon de l'oreille gauche  BACTERIOLOGIE\n",
      "4             Frottis ur�tral gram  BACTERIOLOGIE\n",
      "..                             ...            ...\n",
      "77                         Rubeole      SEROLOGIE\n",
      "78                            Toxo      SEROLOGIE\n",
      "79                       VDRL/TPHA      SEROLOGIE\n",
      "80                        Widal TH      SEROLOGIE\n",
      "81                        Widal TO      SEROLOGIE\n",
      "\n",
      "[82 rows x 2 columns]\n"
     ]
    }
   ],
   "source": [
    "print(raw2)"
   ]
  },
  {
   "cell_type": "code",
   "execution_count": 120,
   "id": "optical-teacher",
   "metadata": {},
   "outputs": [
    {
     "name": "stdout",
     "output_type": "stream",
     "text": [
      "             EVT_TYPE_EXAMEN_VALUE           TYPE\n",
      "0                ECBU / Uroculture  BACTERIOLOGIE\n",
      "1              Ecouvillon de gorge  BACTERIOLOGIE\n",
      "2   Ecouvillon de l'oreille droite  BACTERIOLOGIE\n",
      "3   Ecouvillon de l'oreille gauche  BACTERIOLOGIE\n",
      "4             Frottis ur�tral gram  BACTERIOLOGIE\n",
      "..                             ...            ...\n",
      "77                         Rubeole      SEROLOGIE\n",
      "78                            Toxo      SEROLOGIE\n",
      "79                       VDRL/TPHA      SEROLOGIE\n",
      "80                        Widal TH      SEROLOGIE\n",
      "81                        Widal TO      SEROLOGIE\n",
      "\n",
      "[82 rows x 2 columns]\n"
     ]
    }
   ],
   "source": [
    "df2 = raw2.loc[:,['EVT_TYPE_EXAMEN_VALUE', 'TYPE']]\n",
    "print(raw2)"
   ]
  },
  {
   "cell_type": "code",
   "execution_count": 121,
   "id": "separated-cosmetic",
   "metadata": {},
   "outputs": [
    {
     "data": {
      "text/html": [
       "<div>\n",
       "<style scoped>\n",
       "    .dataframe tbody tr th:only-of-type {\n",
       "        vertical-align: middle;\n",
       "    }\n",
       "\n",
       "    .dataframe tbody tr th {\n",
       "        vertical-align: top;\n",
       "    }\n",
       "\n",
       "    .dataframe thead th {\n",
       "        text-align: right;\n",
       "    }\n",
       "</style>\n",
       "<table border=\"1\" class=\"dataframe\">\n",
       "  <thead>\n",
       "    <tr style=\"text-align: right;\">\n",
       "      <th></th>\n",
       "      <th>TYPE</th>\n",
       "    </tr>\n",
       "    <tr>\n",
       "      <th>EVT_TYPE_EXAMEN_VALUE</th>\n",
       "      <th></th>\n",
       "    </tr>\n",
       "  </thead>\n",
       "  <tbody>\n",
       "    <tr>\n",
       "      <th>ABO &amp; RH (D)</th>\n",
       "      <td>HEMATOLOGIE</td>\n",
       "    </tr>\n",
       "    <tr>\n",
       "      <th>AFP</th>\n",
       "      <td>HORMONOLOGIE</td>\n",
       "    </tr>\n",
       "    <tr>\n",
       "      <th>ALAT (GPT)</th>\n",
       "      <td>BIOCHIMIE</td>\n",
       "    </tr>\n",
       "    <tr>\n",
       "      <th>ASAT (GOT)</th>\n",
       "      <td>BIOCHIMIE</td>\n",
       "    </tr>\n",
       "    <tr>\n",
       "      <th>ASLO quantitatif</th>\n",
       "      <td>SEROLOGIE</td>\n",
       "    </tr>\n",
       "    <tr>\n",
       "      <th>...</th>\n",
       "      <td>...</td>\n",
       "    </tr>\n",
       "    <tr>\n",
       "      <th>VDRL/TPHA</th>\n",
       "      <td>SEROLOGIE</td>\n",
       "    </tr>\n",
       "    <tr>\n",
       "      <th>Vitesse de s�dimentation (VS)</th>\n",
       "      <td>HEMATOLOGIE</td>\n",
       "    </tr>\n",
       "    <tr>\n",
       "      <th>Widal TH</th>\n",
       "      <td>SEROLOGIE</td>\n",
       "    </tr>\n",
       "    <tr>\n",
       "      <th>Widal TO</th>\n",
       "      <td>SEROLOGIE</td>\n",
       "    </tr>\n",
       "    <tr>\n",
       "      <th>beta-HCG</th>\n",
       "      <td>HORMONOLOGIE</td>\n",
       "    </tr>\n",
       "  </tbody>\n",
       "</table>\n",
       "<p>82 rows × 1 columns</p>\n",
       "</div>"
      ],
      "text/plain": [
       "                                       TYPE\n",
       "EVT_TYPE_EXAMEN_VALUE                      \n",
       "ABO & RH (D)                    HEMATOLOGIE\n",
       "AFP                            HORMONOLOGIE\n",
       "ALAT (GPT)                        BIOCHIMIE\n",
       "ASAT (GOT)                        BIOCHIMIE\n",
       "ASLO quantitatif                  SEROLOGIE\n",
       "...                                     ...\n",
       "VDRL/TPHA                         SEROLOGIE\n",
       "Vitesse de s�dimentation (VS)   HEMATOLOGIE\n",
       "Widal TH                          SEROLOGIE\n",
       "Widal TO                          SEROLOGIE\n",
       "beta-HCG                       HORMONOLOGIE\n",
       "\n",
       "[82 rows x 1 columns]"
      ]
     },
     "execution_count": 121,
     "metadata": {},
     "output_type": "execute_result"
    }
   ],
   "source": [
    "df2.groupby(['EVT_TYPE_EXAMEN_VALUE']).sum()"
   ]
  },
  {
   "cell_type": "code",
   "execution_count": 126,
   "id": "preliminary-communication",
   "metadata": {},
   "outputs": [
    {
     "data": {
      "text/html": [
       "<div>\n",
       "<style scoped>\n",
       "    .dataframe tbody tr th:only-of-type {\n",
       "        vertical-align: middle;\n",
       "    }\n",
       "\n",
       "    .dataframe tbody tr th {\n",
       "        vertical-align: top;\n",
       "    }\n",
       "\n",
       "    .dataframe thead th {\n",
       "        text-align: right;\n",
       "    }\n",
       "</style>\n",
       "<table border=\"1\" class=\"dataframe\">\n",
       "  <thead>\n",
       "    <tr style=\"text-align: right;\">\n",
       "      <th></th>\n",
       "      <th>EVT_TYPE_EXAMEN_VALUE</th>\n",
       "      <th>TYPE</th>\n",
       "    </tr>\n",
       "  </thead>\n",
       "  <tbody>\n",
       "    <tr>\n",
       "      <th>0</th>\n",
       "      <td>ABO &amp; RH (D)</td>\n",
       "      <td>NaN</td>\n",
       "    </tr>\n",
       "    <tr>\n",
       "      <th>1</th>\n",
       "      <td>AFP</td>\n",
       "      <td>NaN</td>\n",
       "    </tr>\n",
       "    <tr>\n",
       "      <th>2</th>\n",
       "      <td>ALAT (GPT)</td>\n",
       "      <td>NaN</td>\n",
       "    </tr>\n",
       "    <tr>\n",
       "      <th>3</th>\n",
       "      <td>ASAT (GOT)</td>\n",
       "      <td>NaN</td>\n",
       "    </tr>\n",
       "    <tr>\n",
       "      <th>4</th>\n",
       "      <td>ASLO quantitatif</td>\n",
       "      <td>NaN</td>\n",
       "    </tr>\n",
       "    <tr>\n",
       "      <th>...</th>\n",
       "      <td>...</td>\n",
       "      <td>...</td>\n",
       "    </tr>\n",
       "    <tr>\n",
       "      <th>80</th>\n",
       "      <td>VDRL/TPHA</td>\n",
       "      <td>NaN</td>\n",
       "    </tr>\n",
       "    <tr>\n",
       "      <th>81</th>\n",
       "      <td>Vitesse de s�dimentation (VS)</td>\n",
       "      <td>NaN</td>\n",
       "    </tr>\n",
       "    <tr>\n",
       "      <th>82</th>\n",
       "      <td>Widal TH</td>\n",
       "      <td>NaN</td>\n",
       "    </tr>\n",
       "    <tr>\n",
       "      <th>83</th>\n",
       "      <td>Widal TO</td>\n",
       "      <td>NaN</td>\n",
       "    </tr>\n",
       "    <tr>\n",
       "      <th>84</th>\n",
       "      <td>beta-HCG</td>\n",
       "      <td>HORMONOLOGIE</td>\n",
       "    </tr>\n",
       "  </tbody>\n",
       "</table>\n",
       "<p>85 rows × 2 columns</p>\n",
       "</div>"
      ],
      "text/plain": [
       "            EVT_TYPE_EXAMEN_VALUE          TYPE\n",
       "0                    ABO & RH (D)           NaN\n",
       "1                             AFP           NaN\n",
       "2                      ALAT (GPT)           NaN\n",
       "3                      ASAT (GOT)           NaN\n",
       "4                ASLO quantitatif           NaN\n",
       "..                            ...           ...\n",
       "80                      VDRL/TPHA           NaN\n",
       "81  Vitesse de s�dimentation (VS)           NaN\n",
       "82                       Widal TH           NaN\n",
       "83                       Widal TO           NaN\n",
       "84                       beta-HCG  HORMONOLOGIE\n",
       "\n",
       "[85 rows x 2 columns]"
      ]
     },
     "execution_count": 126,
     "metadata": {},
     "output_type": "execute_result"
    }
   ],
   "source": [
    "pd.concat([df, df2]).groupby([\"EVT_TYPE_EXAMEN_VALUE\"], as_index=False)[\"TYPE\"].sum()"
   ]
  },
  {
   "cell_type": "code",
   "execution_count": null,
   "id": "indirect-account",
   "metadata": {},
   "outputs": [],
   "source": []
  },
  {
   "cell_type": "code",
   "execution_count": null,
   "id": "architectural-disposal",
   "metadata": {},
   "outputs": [],
   "source": []
  },
  {
   "cell_type": "code",
   "execution_count": null,
   "id": "dress-interaction",
   "metadata": {},
   "outputs": [],
   "source": []
  }
 ],
 "metadata": {
  "kernelspec": {
   "display_name": "Python 3",
   "language": "python",
   "name": "python3"
  },
  "language_info": {
   "codemirror_mode": {
    "name": "ipython",
    "version": 3
   },
   "file_extension": ".py",
   "mimetype": "text/x-python",
   "name": "python",
   "nbconvert_exporter": "python",
   "pygments_lexer": "ipython3",
   "version": "3.7.3"
  }
 },
 "nbformat": 4,
 "nbformat_minor": 5
}
