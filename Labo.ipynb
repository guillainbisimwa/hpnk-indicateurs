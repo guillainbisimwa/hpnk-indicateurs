{
 "cells": [
  {
   "cell_type": "code",
   "execution_count": 1,
   "id": "pharmaceutical-machine",
   "metadata": {},
   "outputs": [],
   "source": [
    "# LOAD DATASET"
   ]
  },
  {
   "cell_type": "code",
   "execution_count": 2,
   "id": "alive-seattle",
   "metadata": {},
   "outputs": [],
   "source": [
    "import pandas as pd\n",
    "import io"
   ]
  },
  {
   "cell_type": "code",
   "execution_count": 3,
   "id": "hawaiian-vegetarian",
   "metadata": {},
   "outputs": [],
   "source": [
    "raw = pd.read_csv(\"dataset/JAN/LABO15.csv\", sep=';') "
   ]
  },
  {
   "cell_type": "code",
   "execution_count": 4,
   "id": "under-boards",
   "metadata": {},
   "outputs": [],
   "source": [
    "# RESHAPE\n",
    "## EVT_PREL_FAIT, EVT_TYPE_EXAMEN_VALUE, Date"
   ]
  },
  {
   "cell_type": "code",
   "execution_count": 6,
   "id": "known-cooler",
   "metadata": {},
   "outputs": [
    {
     "name": "stdout",
     "output_type": "stream",
     "text": [
      "0                   NaN\n",
      "1       Selles directes\n",
      "2              Widal TO\n",
      "3         TDR Paludisme\n",
      "4              Widal TH\n",
      "             ...       \n",
      "4468                NaN\n",
      "4469           Widal TH\n",
      "4470           Widal TO\n",
      "4471         Cr?atinine\n",
      "4472      TDR Paludisme\n",
      "Name: EVT_TYPE_EXAMEN_VALUE, Length: 4473, dtype: object\n"
     ]
    }
   ],
   "source": [
    "\n",
    "df = raw[\"EVT_TYPE_EXAMEN_VALUE\"]\n",
    "print(df)"
   ]
  },
  {
   "cell_type": "code",
   "execution_count": null,
   "id": "amber-google",
   "metadata": {},
   "outputs": [],
   "source": []
  },
  {
   "cell_type": "code",
   "execution_count": null,
   "id": "vulnerable-employee",
   "metadata": {},
   "outputs": [],
   "source": []
  },
  {
   "cell_type": "code",
   "execution_count": null,
   "id": "statutory-stack",
   "metadata": {},
   "outputs": [],
   "source": []
  }
 ],
 "metadata": {
  "kernelspec": {
   "display_name": "Python 3",
   "language": "python",
   "name": "python3"
  },
  "language_info": {
   "codemirror_mode": {
    "name": "ipython",
    "version": 3
   },
   "file_extension": ".py",
   "mimetype": "text/x-python",
   "name": "python",
   "nbconvert_exporter": "python",
   "pygments_lexer": "ipython3",
   "version": "3.7.3"
  }
 },
 "nbformat": 4,
 "nbformat_minor": 5
}
