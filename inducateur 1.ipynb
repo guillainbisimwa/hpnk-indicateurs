{
 "cells": [
  {
   "cell_type": "code",
   "execution_count": 30,
   "metadata": {},
   "outputs": [],
   "source": [
    "# INDICATEUR DU MOIS DE FEVRIER"
   ]
  },
  {
   "cell_type": "code",
   "execution_count": 31,
   "metadata": {},
   "outputs": [],
   "source": [
    "import pandas as pd\n",
    "\n",
    "triage_frame = pd.read_csv('dataset/Triage.csv')"
   ]
  },
  {
   "cell_type": "code",
   "execution_count": 32,
   "metadata": {},
   "outputs": [
    {
     "name": "stdout",
     "output_type": "stream",
     "text": [
      "Date\n",
      "Code\n",
      "Postnom\n",
      "Prénom\n",
      "<5\n",
      "Nom\n",
      "Contact patient\n",
      "Quartier\n",
      "Avenue\n",
      "Personne contact\n",
      "Age\n",
      "Sexe\n",
      "Urgence\n",
      "NC/AC\n",
      "Plaintes\n",
      "Service d'orientation\n",
      "Type de visite\n",
      "Mode de paiement\n",
      "Référence\n",
      "Type d'urgence\n"
     ]
    }
   ],
   "source": [
    "# iterating the columns \n",
    "for col in triage_frame.columns: \n",
    "    print(col) "
   ]
  },
  {
   "cell_type": "code",
   "execution_count": 33,
   "metadata": {},
   "outputs": [
    {
     "name": "stdout",
     "output_type": "stream",
     "text": [
      "            Date  Age Sexe        NC/AC Service d'orientation Référence\n",
      "0  2/1/2020 1:55    1    M          NaN             Pédiatrie       non\n",
      "1  2/1/2020 7:59   50    F  Nouveau cas      Médecine interne       oui\n",
      "2  2/1/2020 8:01   39    F  Nouveau cas      Médecine interne       oui\n",
      "3  2/1/2020 8:08    9    M  Nouveau cas                   ORL       oui\n",
      "4  2/1/2020 8:12    1    F  Nouveau cas                   ORL       oui\n",
      "5  2/1/2020 8:16   22    F  Nouveau cas           Dentisterie       oui\n",
      "6  2/1/2020 8:17   86    M  Nouveau cas             Chirurgie       oui\n",
      "7  2/1/2020 8:22   25    F  Nouveau cas      Médecine interne       oui\n",
      "8  2/1/2020 8:28    2    F  Nouveau cas             Pédiatrie       oui\n",
      "9  2/1/2020 8:31   68    M   Ancien cas      Médecine interne       oui\n"
     ]
    }
   ],
   "source": [
    "triage_ = triage_frame[['Date','Age','Sexe','NC/AC', \"Service d'orientation\",'Référence']]\n",
    "print(triage_.head(10))"
   ]
  },
  {
   "cell_type": "code",
   "execution_count": 36,
   "metadata": {},
   "outputs": [
    {
     "name": "stdout",
     "output_type": "stream",
     "text": [
      "            Date  Age Sexe        NC/AC Service d'orientation Référence\n",
      "0  2/1/2020 1:55    1    M  Nouveau cas             Pédiatrie       non\n",
      "1  2/1/2020 7:59   50    F  Nouveau cas      Médecine interne       oui\n",
      "2  2/1/2020 8:01   39    F  Nouveau cas      Médecine interne       oui\n",
      "3  2/1/2020 8:08    9    M  Nouveau cas                   ORL       oui\n",
      "4  2/1/2020 8:12    1    F  Nouveau cas                   ORL       oui\n",
      "5  2/1/2020 8:16   22    F  Nouveau cas           Dentisterie       oui\n",
      "6  2/1/2020 8:17   86    M  Nouveau cas             Chirurgie       oui\n",
      "7  2/1/2020 8:22   25    F  Nouveau cas      Médecine interne       oui\n",
      "8  2/1/2020 8:28    2    F  Nouveau cas             Pédiatrie       oui\n",
      "9  2/1/2020 8:31   68    M   Ancien cas      Médecine interne       oui\n"
     ]
    }
   ],
   "source": [
    "# Touver tous les NC/AC vide et completer a Nouveau cas\n",
    "triage_frame_cleaned = triage_.fillna(value={'NC/AC': 'Nouveau cas'})\n",
    "print(triage_frame_cleaned.head(10))"
   ]
  },
  {
   "cell_type": "code",
   "execution_count": null,
   "metadata": {},
   "outputs": [],
   "source": []
  },
  {
   "cell_type": "code",
   "execution_count": null,
   "metadata": {},
   "outputs": [],
   "source": []
  },
  {
   "cell_type": "code",
   "execution_count": null,
   "metadata": {},
   "outputs": [],
   "source": []
  },
  {
   "cell_type": "code",
   "execution_count": null,
   "metadata": {},
   "outputs": [],
   "source": []
  },
  {
   "cell_type": "code",
   "execution_count": null,
   "metadata": {},
   "outputs": [],
   "source": []
  }
 ],
 "metadata": {
  "kernelspec": {
   "display_name": "Python 3",
   "language": "python",
   "name": "python3"
  },
  "language_info": {
   "codemirror_mode": {
    "name": "ipython",
    "version": 3
   },
   "file_extension": ".py",
   "mimetype": "text/x-python",
   "name": "python",
   "nbconvert_exporter": "python",
   "pygments_lexer": "ipython3",
   "version": "3.7.3"
  }
 },
 "nbformat": 4,
 "nbformat_minor": 4
}
