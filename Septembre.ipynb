{
 "cells": [
  {
   "cell_type": "code",
   "execution_count": 1,
   "id": "2b8ee58f",
   "metadata": {},
   "outputs": [],
   "source": [
    "import pandas as pd\n",
    "import io\n",
    "import numpy as np\n",
    "from datetime import datetime"
   ]
  },
  {
   "cell_type": "code",
   "execution_count": 2,
   "id": "06386d1b",
   "metadata": {},
   "outputs": [],
   "source": [
    "raw = pd.read_csv(\"dataset/med.csv\", sep=',') #  encoding='Windows-1252'"
   ]
  },
  {
   "cell_type": "code",
   "execution_count": 3,
   "id": "e738e424",
   "metadata": {},
   "outputs": [
    {
     "data": {
      "text/html": [
       "<div>\n",
       "<style scoped>\n",
       "    .dataframe tbody tr th:only-of-type {\n",
       "        vertical-align: middle;\n",
       "    }\n",
       "\n",
       "    .dataframe tbody tr th {\n",
       "        vertical-align: top;\n",
       "    }\n",
       "\n",
       "    .dataframe thead th {\n",
       "        text-align: right;\n",
       "    }\n",
       "</style>\n",
       "<table border=\"1\" class=\"dataframe\">\n",
       "  <thead>\n",
       "    <tr style=\"text-align: right;\">\n",
       "      <th></th>\n",
       "      <th>cDicCode</th>\n",
       "      <th>cDicDesc</th>\n",
       "    </tr>\n",
       "  </thead>\n",
       "  <tbody>\n",
       "    <tr>\n",
       "      <th>0</th>\n",
       "      <td>MED1</td>\n",
       "      <td>Amikacine 1g (Sol. injectable)</td>\n",
       "    </tr>\n",
       "    <tr>\n",
       "      <th>1</th>\n",
       "      <td>MED10</td>\n",
       "      <td>Griséofulvine 250mg (Comprimé)</td>\n",
       "    </tr>\n",
       "    <tr>\n",
       "      <th>2</th>\n",
       "      <td>MED100</td>\n",
       "      <td>Bethamétazone dipropionate 0,05%, 30g (Crème)</td>\n",
       "    </tr>\n",
       "    <tr>\n",
       "      <th>3</th>\n",
       "      <td>MED1000</td>\n",
       "      <td>Céfotaxime</td>\n",
       "    </tr>\n",
       "    <tr>\n",
       "      <th>4</th>\n",
       "      <td>MED1001</td>\n",
       "      <td>Ceftriaxone</td>\n",
       "    </tr>\n",
       "    <tr>\n",
       "      <th>...</th>\n",
       "      <td>...</td>\n",
       "      <td>...</td>\n",
       "    </tr>\n",
       "    <tr>\n",
       "      <th>1347</th>\n",
       "      <td>MED995</td>\n",
       "      <td>Aminophylline</td>\n",
       "    </tr>\n",
       "    <tr>\n",
       "      <th>1348</th>\n",
       "      <td>MED996</td>\n",
       "      <td>Ampicilline</td>\n",
       "    </tr>\n",
       "    <tr>\n",
       "      <th>1349</th>\n",
       "      <td>MED997</td>\n",
       "      <td>Atropine</td>\n",
       "    </tr>\n",
       "    <tr>\n",
       "      <th>1350</th>\n",
       "      <td>MED998</td>\n",
       "      <td>Bupivacaïne (hyperbare, rachianesthésie)</td>\n",
       "    </tr>\n",
       "    <tr>\n",
       "      <th>1351</th>\n",
       "      <td>MED999</td>\n",
       "      <td>Calcium gluconate</td>\n",
       "    </tr>\n",
       "  </tbody>\n",
       "</table>\n",
       "<p>1352 rows × 2 columns</p>\n",
       "</div>"
      ],
      "text/plain": [
       "     cDicCode                                       cDicDesc\n",
       "0        MED1                 Amikacine 1g (Sol. injectable)\n",
       "1       MED10                 Griséofulvine 250mg (Comprimé)\n",
       "2      MED100  Bethamétazone dipropionate 0,05%, 30g (Crème)\n",
       "3     MED1000                                     Céfotaxime\n",
       "4     MED1001                                    Ceftriaxone\n",
       "...       ...                                            ...\n",
       "1347   MED995                                  Aminophylline\n",
       "1348   MED996                                    Ampicilline\n",
       "1349   MED997                                       Atropine\n",
       "1350   MED998       Bupivacaïne (hyperbare, rachianesthésie)\n",
       "1351   MED999                              Calcium gluconate\n",
       "\n",
       "[1352 rows x 2 columns]"
      ]
     },
     "execution_count": 3,
     "metadata": {},
     "output_type": "execute_result"
    }
   ],
   "source": [
    "raw"
   ]
  },
  {
   "cell_type": "code",
   "execution_count": null,
   "id": "03455145",
   "metadata": {},
   "outputs": [],
   "source": [
    "august = pd.read_csv(\"dataset/PHARMA/ndAout2022.csv\", sep=',') #  encoding='Windows-1252'"
   ]
  }
 ],
 "metadata": {
  "kernelspec": {
   "display_name": "Python 3",
   "language": "python",
   "name": "python3"
  },
  "language_info": {
   "codemirror_mode": {
    "name": "ipython",
    "version": 3
   },
   "file_extension": ".py",
   "mimetype": "text/x-python",
   "name": "python",
   "nbconvert_exporter": "python",
   "pygments_lexer": "ipython3",
   "version": "3.7.3"
  }
 },
 "nbformat": 4,
 "nbformat_minor": 5
}
